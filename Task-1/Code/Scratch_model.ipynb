{
  "nbformat": 4,
  "nbformat_minor": 0,
  "metadata": {
    "colab": {
      "provenance": [],
      "gpuType": "T4"
    },
    "kernelspec": {
      "name": "python3",
      "display_name": "Python 3"
    },
    "language_info": {
      "name": "python"
    },
    "accelerator": "GPU"
  },
  "cells": [
    {
      "cell_type": "code",
      "execution_count": null,
      "metadata": {
        "id": "wG-vAMgPauk3"
      },
      "outputs": [],
      "source": [
        "import torch\n",
        "from torch.utils.data import DataLoader\n",
        "from torchvision import datasets, transforms\n",
        "import torchvision.models as models\n",
        "\n",
        "from sklearn.model_selection import train_test_split\n",
        "\n",
        "import pandas as pd\n",
        "import matplotlib.pyplot as plt\n",
        "\n",
        "import itertools\n",
        "import copy"
      ]
    },
    {
      "cell_type": "code",
      "source": [
        "transformers = transforms.Compose([\n",
        "    transforms.Resize(224),\n",
        "    transforms.CenterCrop(224),\n",
        "    transforms.ToTensor(),\n",
        "    transforms.Normalize([0.485, 0.456, 0.406], # mean imagenet\n",
        "                         [0.229, 0.224, 0.225]) # std imagenet\n",
        "])"
      ],
      "metadata": {
        "id": "ieukmXXXbCo9"
      },
      "execution_count": null,
      "outputs": []
    },
    {
      "cell_type": "code",
      "source": [
        "dataset_colorectal_cancer = datasets.ImageFolder(root = (\"/content/drive/MyDrive/PhD/Courses/ML/Project/Codes/Dataset/Dataset_1/Colorectal_Cancer\"),\n",
        "transform = transformers)"
      ],
      "metadata": {
        "id": "35kSxX3rbKmE"
      },
      "execution_count": null,
      "outputs": []
    },
    {
      "cell_type": "code",
      "source": [
        "print(dataset_colorectal_cancer)"
      ],
      "metadata": {
        "colab": {
          "base_uri": "https://localhost:8080/"
        },
        "id": "hdT5ikrGbL_1",
        "outputId": "4f87888c-08a9-42a6-8ebd-75339e3a1ec4"
      },
      "execution_count": null,
      "outputs": [
        {
          "output_type": "stream",
          "name": "stdout",
          "text": [
            "Dataset ImageFolder\n",
            "    Number of datapoints: 6000\n",
            "    Root location: /content/drive/MyDrive/PhD/Courses/ML/Project/Codes/Dataset/Dataset_1/Colorectal_Cancer\n",
            "    StandardTransform\n",
            "Transform: Compose(\n",
            "               Resize(size=224, interpolation=bilinear, max_size=None, antialias=warn)\n",
            "               CenterCrop(size=(224, 224))\n",
            "               ToTensor()\n",
            "               Normalize(mean=[0.485, 0.456, 0.406], std=[0.229, 0.224, 0.225])\n",
            "           )\n"
          ]
        }
      ]
    },
    {
      "cell_type": "code",
      "source": [
        "train_ind, test_ind = train_test_split(list(range(len(dataset_colorectal_cancer.targets))),\n",
        "                                       test_size=0.3, random_state = 0,stratify=dataset_colorectal_cancer.targets)"
      ],
      "metadata": {
        "id": "qS2f5vCEbPDJ"
      },
      "execution_count": null,
      "outputs": []
    },
    {
      "cell_type": "code",
      "source": [
        "train_set = torch.utils.data.Subset(dataset_colorectal_cancer, train_ind)\n",
        "test_set = torch.utils.data.Subset(dataset_colorectal_cancer, test_ind)"
      ],
      "metadata": {
        "id": "PhkKT99_bQYI"
      },
      "execution_count": null,
      "outputs": []
    },
    {
      "cell_type": "code",
      "source": [
        "print(len(train_set))\n",
        "print(len(test_set))"
      ],
      "metadata": {
        "colab": {
          "base_uri": "https://localhost:8080/"
        },
        "id": "FAZCteWdbT57",
        "outputId": "a44f3ebe-a5af-424a-8d63-ffe533170ada"
      },
      "execution_count": null,
      "outputs": [
        {
          "output_type": "stream",
          "name": "stdout",
          "text": [
            "4200\n",
            "1800\n"
          ]
        }
      ]
    },
    {
      "cell_type": "code",
      "source": [
        "batch_size = 32"
      ],
      "metadata": {
        "id": "fQS7l8HwbZmb"
      },
      "execution_count": null,
      "outputs": []
    },
    {
      "cell_type": "code",
      "source": [
        "train_loader = DataLoader(train_set, shuffle=True, batch_size = batch_size, pin_memory = True) # create train loader\n",
        "test_loader = DataLoader(test_set, batch_size = batch_size, pin_memory = True) # create test loader"
      ],
      "metadata": {
        "id": "ukeua7A7cAd3"
      },
      "execution_count": null,
      "outputs": []
    },
    {
      "cell_type": "code",
      "source": [
        "model_resnet18 = models.resnet18()\n",
        "# Modify the fully connected (fc) layer for 3-class classification\n",
        "num_features = model_resnet18.fc.in_features\n",
        "model_resnet18.fc = torch.nn.Linear(num_features, 3)\n",
        "# Print the modified model to verify the changes\n",
        "print(model_resnet18)"
      ],
      "metadata": {
        "colab": {
          "base_uri": "https://localhost:8080/"
        },
        "id": "4tMIzPlPbXgV",
        "outputId": "4146eba5-3fd2-4464-c3d2-09d4acf97025"
      },
      "execution_count": null,
      "outputs": [
        {
          "output_type": "stream",
          "name": "stdout",
          "text": [
            "ResNet(\n",
            "  (conv1): Conv2d(3, 64, kernel_size=(7, 7), stride=(2, 2), padding=(3, 3), bias=False)\n",
            "  (bn1): BatchNorm2d(64, eps=1e-05, momentum=0.1, affine=True, track_running_stats=True)\n",
            "  (relu): ReLU(inplace=True)\n",
            "  (maxpool): MaxPool2d(kernel_size=3, stride=2, padding=1, dilation=1, ceil_mode=False)\n",
            "  (layer1): Sequential(\n",
            "    (0): BasicBlock(\n",
            "      (conv1): Conv2d(64, 64, kernel_size=(3, 3), stride=(1, 1), padding=(1, 1), bias=False)\n",
            "      (bn1): BatchNorm2d(64, eps=1e-05, momentum=0.1, affine=True, track_running_stats=True)\n",
            "      (relu): ReLU(inplace=True)\n",
            "      (conv2): Conv2d(64, 64, kernel_size=(3, 3), stride=(1, 1), padding=(1, 1), bias=False)\n",
            "      (bn2): BatchNorm2d(64, eps=1e-05, momentum=0.1, affine=True, track_running_stats=True)\n",
            "    )\n",
            "    (1): BasicBlock(\n",
            "      (conv1): Conv2d(64, 64, kernel_size=(3, 3), stride=(1, 1), padding=(1, 1), bias=False)\n",
            "      (bn1): BatchNorm2d(64, eps=1e-05, momentum=0.1, affine=True, track_running_stats=True)\n",
            "      (relu): ReLU(inplace=True)\n",
            "      (conv2): Conv2d(64, 64, kernel_size=(3, 3), stride=(1, 1), padding=(1, 1), bias=False)\n",
            "      (bn2): BatchNorm2d(64, eps=1e-05, momentum=0.1, affine=True, track_running_stats=True)\n",
            "    )\n",
            "  )\n",
            "  (layer2): Sequential(\n",
            "    (0): BasicBlock(\n",
            "      (conv1): Conv2d(64, 128, kernel_size=(3, 3), stride=(2, 2), padding=(1, 1), bias=False)\n",
            "      (bn1): BatchNorm2d(128, eps=1e-05, momentum=0.1, affine=True, track_running_stats=True)\n",
            "      (relu): ReLU(inplace=True)\n",
            "      (conv2): Conv2d(128, 128, kernel_size=(3, 3), stride=(1, 1), padding=(1, 1), bias=False)\n",
            "      (bn2): BatchNorm2d(128, eps=1e-05, momentum=0.1, affine=True, track_running_stats=True)\n",
            "      (downsample): Sequential(\n",
            "        (0): Conv2d(64, 128, kernel_size=(1, 1), stride=(2, 2), bias=False)\n",
            "        (1): BatchNorm2d(128, eps=1e-05, momentum=0.1, affine=True, track_running_stats=True)\n",
            "      )\n",
            "    )\n",
            "    (1): BasicBlock(\n",
            "      (conv1): Conv2d(128, 128, kernel_size=(3, 3), stride=(1, 1), padding=(1, 1), bias=False)\n",
            "      (bn1): BatchNorm2d(128, eps=1e-05, momentum=0.1, affine=True, track_running_stats=True)\n",
            "      (relu): ReLU(inplace=True)\n",
            "      (conv2): Conv2d(128, 128, kernel_size=(3, 3), stride=(1, 1), padding=(1, 1), bias=False)\n",
            "      (bn2): BatchNorm2d(128, eps=1e-05, momentum=0.1, affine=True, track_running_stats=True)\n",
            "    )\n",
            "  )\n",
            "  (layer3): Sequential(\n",
            "    (0): BasicBlock(\n",
            "      (conv1): Conv2d(128, 256, kernel_size=(3, 3), stride=(2, 2), padding=(1, 1), bias=False)\n",
            "      (bn1): BatchNorm2d(256, eps=1e-05, momentum=0.1, affine=True, track_running_stats=True)\n",
            "      (relu): ReLU(inplace=True)\n",
            "      (conv2): Conv2d(256, 256, kernel_size=(3, 3), stride=(1, 1), padding=(1, 1), bias=False)\n",
            "      (bn2): BatchNorm2d(256, eps=1e-05, momentum=0.1, affine=True, track_running_stats=True)\n",
            "      (downsample): Sequential(\n",
            "        (0): Conv2d(128, 256, kernel_size=(1, 1), stride=(2, 2), bias=False)\n",
            "        (1): BatchNorm2d(256, eps=1e-05, momentum=0.1, affine=True, track_running_stats=True)\n",
            "      )\n",
            "    )\n",
            "    (1): BasicBlock(\n",
            "      (conv1): Conv2d(256, 256, kernel_size=(3, 3), stride=(1, 1), padding=(1, 1), bias=False)\n",
            "      (bn1): BatchNorm2d(256, eps=1e-05, momentum=0.1, affine=True, track_running_stats=True)\n",
            "      (relu): ReLU(inplace=True)\n",
            "      (conv2): Conv2d(256, 256, kernel_size=(3, 3), stride=(1, 1), padding=(1, 1), bias=False)\n",
            "      (bn2): BatchNorm2d(256, eps=1e-05, momentum=0.1, affine=True, track_running_stats=True)\n",
            "    )\n",
            "  )\n",
            "  (layer4): Sequential(\n",
            "    (0): BasicBlock(\n",
            "      (conv1): Conv2d(256, 512, kernel_size=(3, 3), stride=(2, 2), padding=(1, 1), bias=False)\n",
            "      (bn1): BatchNorm2d(512, eps=1e-05, momentum=0.1, affine=True, track_running_stats=True)\n",
            "      (relu): ReLU(inplace=True)\n",
            "      (conv2): Conv2d(512, 512, kernel_size=(3, 3), stride=(1, 1), padding=(1, 1), bias=False)\n",
            "      (bn2): BatchNorm2d(512, eps=1e-05, momentum=0.1, affine=True, track_running_stats=True)\n",
            "      (downsample): Sequential(\n",
            "        (0): Conv2d(256, 512, kernel_size=(1, 1), stride=(2, 2), bias=False)\n",
            "        (1): BatchNorm2d(512, eps=1e-05, momentum=0.1, affine=True, track_running_stats=True)\n",
            "      )\n",
            "    )\n",
            "    (1): BasicBlock(\n",
            "      (conv1): Conv2d(512, 512, kernel_size=(3, 3), stride=(1, 1), padding=(1, 1), bias=False)\n",
            "      (bn1): BatchNorm2d(512, eps=1e-05, momentum=0.1, affine=True, track_running_stats=True)\n",
            "      (relu): ReLU(inplace=True)\n",
            "      (conv2): Conv2d(512, 512, kernel_size=(3, 3), stride=(1, 1), padding=(1, 1), bias=False)\n",
            "      (bn2): BatchNorm2d(512, eps=1e-05, momentum=0.1, affine=True, track_running_stats=True)\n",
            "    )\n",
            "  )\n",
            "  (avgpool): AdaptiveAvgPool2d(output_size=(1, 1))\n",
            "  (fc): Linear(in_features=512, out_features=3, bias=True)\n",
            ")\n"
          ]
        }
      ]
    },
    {
      "cell_type": "code",
      "source": [
        "num_epoch = 100\n",
        "device = \"cuda:0\" # use 'cuda:0' to speed it up.\n",
        "lr = 0.01"
      ],
      "metadata": {
        "id": "abxDGfn5cpsu"
      },
      "execution_count": null,
      "outputs": []
    },
    {
      "cell_type": "code",
      "source": [
        "model_resnet18_training = copy.deepcopy(model_resnet18)\n",
        "model_resnet18_training.to(device)"
      ],
      "metadata": {
        "colab": {
          "base_uri": "https://localhost:8080/"
        },
        "id": "l2XOUAzrb5Ff",
        "outputId": "1dc9d451-3508-491e-d955-fcf9bd0c5a93"
      },
      "execution_count": null,
      "outputs": [
        {
          "output_type": "execute_result",
          "data": {
            "text/plain": [
              "ResNet(\n",
              "  (conv1): Conv2d(3, 64, kernel_size=(7, 7), stride=(2, 2), padding=(3, 3), bias=False)\n",
              "  (bn1): BatchNorm2d(64, eps=1e-05, momentum=0.1, affine=True, track_running_stats=True)\n",
              "  (relu): ReLU(inplace=True)\n",
              "  (maxpool): MaxPool2d(kernel_size=3, stride=2, padding=1, dilation=1, ceil_mode=False)\n",
              "  (layer1): Sequential(\n",
              "    (0): BasicBlock(\n",
              "      (conv1): Conv2d(64, 64, kernel_size=(3, 3), stride=(1, 1), padding=(1, 1), bias=False)\n",
              "      (bn1): BatchNorm2d(64, eps=1e-05, momentum=0.1, affine=True, track_running_stats=True)\n",
              "      (relu): ReLU(inplace=True)\n",
              "      (conv2): Conv2d(64, 64, kernel_size=(3, 3), stride=(1, 1), padding=(1, 1), bias=False)\n",
              "      (bn2): BatchNorm2d(64, eps=1e-05, momentum=0.1, affine=True, track_running_stats=True)\n",
              "    )\n",
              "    (1): BasicBlock(\n",
              "      (conv1): Conv2d(64, 64, kernel_size=(3, 3), stride=(1, 1), padding=(1, 1), bias=False)\n",
              "      (bn1): BatchNorm2d(64, eps=1e-05, momentum=0.1, affine=True, track_running_stats=True)\n",
              "      (relu): ReLU(inplace=True)\n",
              "      (conv2): Conv2d(64, 64, kernel_size=(3, 3), stride=(1, 1), padding=(1, 1), bias=False)\n",
              "      (bn2): BatchNorm2d(64, eps=1e-05, momentum=0.1, affine=True, track_running_stats=True)\n",
              "    )\n",
              "  )\n",
              "  (layer2): Sequential(\n",
              "    (0): BasicBlock(\n",
              "      (conv1): Conv2d(64, 128, kernel_size=(3, 3), stride=(2, 2), padding=(1, 1), bias=False)\n",
              "      (bn1): BatchNorm2d(128, eps=1e-05, momentum=0.1, affine=True, track_running_stats=True)\n",
              "      (relu): ReLU(inplace=True)\n",
              "      (conv2): Conv2d(128, 128, kernel_size=(3, 3), stride=(1, 1), padding=(1, 1), bias=False)\n",
              "      (bn2): BatchNorm2d(128, eps=1e-05, momentum=0.1, affine=True, track_running_stats=True)\n",
              "      (downsample): Sequential(\n",
              "        (0): Conv2d(64, 128, kernel_size=(1, 1), stride=(2, 2), bias=False)\n",
              "        (1): BatchNorm2d(128, eps=1e-05, momentum=0.1, affine=True, track_running_stats=True)\n",
              "      )\n",
              "    )\n",
              "    (1): BasicBlock(\n",
              "      (conv1): Conv2d(128, 128, kernel_size=(3, 3), stride=(1, 1), padding=(1, 1), bias=False)\n",
              "      (bn1): BatchNorm2d(128, eps=1e-05, momentum=0.1, affine=True, track_running_stats=True)\n",
              "      (relu): ReLU(inplace=True)\n",
              "      (conv2): Conv2d(128, 128, kernel_size=(3, 3), stride=(1, 1), padding=(1, 1), bias=False)\n",
              "      (bn2): BatchNorm2d(128, eps=1e-05, momentum=0.1, affine=True, track_running_stats=True)\n",
              "    )\n",
              "  )\n",
              "  (layer3): Sequential(\n",
              "    (0): BasicBlock(\n",
              "      (conv1): Conv2d(128, 256, kernel_size=(3, 3), stride=(2, 2), padding=(1, 1), bias=False)\n",
              "      (bn1): BatchNorm2d(256, eps=1e-05, momentum=0.1, affine=True, track_running_stats=True)\n",
              "      (relu): ReLU(inplace=True)\n",
              "      (conv2): Conv2d(256, 256, kernel_size=(3, 3), stride=(1, 1), padding=(1, 1), bias=False)\n",
              "      (bn2): BatchNorm2d(256, eps=1e-05, momentum=0.1, affine=True, track_running_stats=True)\n",
              "      (downsample): Sequential(\n",
              "        (0): Conv2d(128, 256, kernel_size=(1, 1), stride=(2, 2), bias=False)\n",
              "        (1): BatchNorm2d(256, eps=1e-05, momentum=0.1, affine=True, track_running_stats=True)\n",
              "      )\n",
              "    )\n",
              "    (1): BasicBlock(\n",
              "      (conv1): Conv2d(256, 256, kernel_size=(3, 3), stride=(1, 1), padding=(1, 1), bias=False)\n",
              "      (bn1): BatchNorm2d(256, eps=1e-05, momentum=0.1, affine=True, track_running_stats=True)\n",
              "      (relu): ReLU(inplace=True)\n",
              "      (conv2): Conv2d(256, 256, kernel_size=(3, 3), stride=(1, 1), padding=(1, 1), bias=False)\n",
              "      (bn2): BatchNorm2d(256, eps=1e-05, momentum=0.1, affine=True, track_running_stats=True)\n",
              "    )\n",
              "  )\n",
              "  (layer4): Sequential(\n",
              "    (0): BasicBlock(\n",
              "      (conv1): Conv2d(256, 512, kernel_size=(3, 3), stride=(2, 2), padding=(1, 1), bias=False)\n",
              "      (bn1): BatchNorm2d(512, eps=1e-05, momentum=0.1, affine=True, track_running_stats=True)\n",
              "      (relu): ReLU(inplace=True)\n",
              "      (conv2): Conv2d(512, 512, kernel_size=(3, 3), stride=(1, 1), padding=(1, 1), bias=False)\n",
              "      (bn2): BatchNorm2d(512, eps=1e-05, momentum=0.1, affine=True, track_running_stats=True)\n",
              "      (downsample): Sequential(\n",
              "        (0): Conv2d(256, 512, kernel_size=(1, 1), stride=(2, 2), bias=False)\n",
              "        (1): BatchNorm2d(512, eps=1e-05, momentum=0.1, affine=True, track_running_stats=True)\n",
              "      )\n",
              "    )\n",
              "    (1): BasicBlock(\n",
              "      (conv1): Conv2d(512, 512, kernel_size=(3, 3), stride=(1, 1), padding=(1, 1), bias=False)\n",
              "      (bn1): BatchNorm2d(512, eps=1e-05, momentum=0.1, affine=True, track_running_stats=True)\n",
              "      (relu): ReLU(inplace=True)\n",
              "      (conv2): Conv2d(512, 512, kernel_size=(3, 3), stride=(1, 1), padding=(1, 1), bias=False)\n",
              "      (bn2): BatchNorm2d(512, eps=1e-05, momentum=0.1, affine=True, track_running_stats=True)\n",
              "    )\n",
              "  )\n",
              "  (avgpool): AdaptiveAvgPool2d(output_size=(1, 1))\n",
              "  (fc): Linear(in_features=512, out_features=3, bias=True)\n",
              ")"
            ]
          },
          "metadata": {},
          "execution_count": 18
        }
      ]
    },
    {
      "cell_type": "code",
      "source": [
        "# Define opt function and learning rate\n",
        "optimizer = torch.optim.SGD(model_resnet18_training.parameters(), lr=lr)\n",
        "\n",
        "# Define loss function and training criterion\n",
        "criterion = torch.nn.CrossEntropyLoss()"
      ],
      "metadata": {
        "id": "sqZdBHimcBVr"
      },
      "execution_count": null,
      "outputs": []
    },
    {
      "cell_type": "code",
      "source": [
        "train_data_metrics = []\n",
        "test_data_metrics = []"
      ],
      "metadata": {
        "id": "esXgLB3odEyo"
      },
      "execution_count": null,
      "outputs": []
    },
    {
      "cell_type": "code",
      "source": [
        "# Training\n",
        "for epoch in range(num_epoch):\n",
        "    model_resnet18_training.train()\n",
        "    train_loss = 0.0\n",
        "    correct_train = 0.0\n",
        "    total_train = 0.0\n",
        "\n",
        "    for inputs, labels in train_loader:\n",
        "        inputs = inputs.to(device)\n",
        "        labels = labels.to(device)\n",
        "        out_preds = model_resnet18_training(inputs)\n",
        "        l = criterion(out_preds, labels)\n",
        "\n",
        "        model_resnet18_training.zero_grad()\n",
        "        l.backward()\n",
        "        optimizer.step()\n",
        "\n",
        "        train_loss += l.item()\n",
        "        _, predicted_train = torch.max(out_preds.data, 1)\n",
        "        total_train += labels.size(0)\n",
        "        correct_train += (predicted_train == labels).sum().item()\n",
        "\n",
        "    train_loss /= len(train_loader)\n",
        "    train_accuracy = 100 * correct_train / total_train\n",
        "    train_data_metrics.append([epoch+1, train_loss, train_accuracy])\n",
        "    # Test\n",
        "    model_resnet18_training.eval()\n",
        "    test_loss = 0.0\n",
        "    correct_test = 0\n",
        "    total_test = 0\n",
        "    with torch.no_grad():\n",
        "        for inputs, labels in test_loader:\n",
        "            inputs = inputs.to(device)\n",
        "            labels = labels.to(device)\n",
        "            outputs = model_resnet18_training(inputs)\n",
        "            loss = criterion(outputs, labels)\n",
        "            test_loss += loss.item()\n",
        "            _, predicted_val = torch.max(outputs.data, 1)\n",
        "            total_test += labels.size(0)\n",
        "            correct_test += (predicted_val == labels).sum().item()\n",
        "\n",
        "    # Calculate validation metrics\n",
        "    test_loss /= len(test_loader)\n",
        "    test_accuracy = 100 * correct_test / total_test\n",
        "    test_data_metrics.append([epoch+1, test_loss, test_accuracy])\n",
        "    # Print training and validation metrics for this epoch\n",
        "    print(f\"Epoch [{epoch+1}], Training Loss: {train_loss:.4f}, Training Accuracy: {train_accuracy:.2f}%, Test Loss: {test_loss:.4f}, Test Accuracy: {test_accuracy:.2f}%\")"
      ],
      "metadata": {
        "colab": {
          "base_uri": "https://localhost:8080/"
        },
        "id": "7s5ul2cmcyvj",
        "outputId": "2c960eca-d724-414a-d838-7106a568369a"
      },
      "execution_count": null,
      "outputs": [
        {
          "output_type": "stream",
          "name": "stdout",
          "text": [
            "Epoch [1], Training Loss: 0.6365, Training Accuracy: 71.86%, Test Loss: 0.8736, Test Accuracy: 67.89%\n",
            "Epoch [2], Training Loss: 0.3633, Training Accuracy: 86.02%, Test Loss: 0.8991, Test Accuracy: 67.33%\n",
            "Epoch [3], Training Loss: 0.2963, Training Accuracy: 88.52%, Test Loss: 1.1988, Test Accuracy: 66.72%\n",
            "Epoch [4], Training Loss: 0.2347, Training Accuracy: 91.29%, Test Loss: 1.1776, Test Accuracy: 69.89%\n",
            "Epoch [5], Training Loss: 0.2039, Training Accuracy: 92.17%, Test Loss: 0.3268, Test Accuracy: 88.11%\n",
            "Epoch [6], Training Loss: 0.1721, Training Accuracy: 93.81%, Test Loss: 0.3053, Test Accuracy: 90.83%\n",
            "Epoch [7], Training Loss: 0.1310, Training Accuracy: 95.64%, Test Loss: 0.5676, Test Accuracy: 80.67%\n",
            "Epoch [8], Training Loss: 0.1297, Training Accuracy: 95.12%, Test Loss: 0.3071, Test Accuracy: 87.94%\n",
            "Epoch [9], Training Loss: 0.1091, Training Accuracy: 96.02%, Test Loss: 0.2335, Test Accuracy: 92.94%\n",
            "Epoch [10], Training Loss: 0.1189, Training Accuracy: 95.62%, Test Loss: 0.2441, Test Accuracy: 92.28%\n",
            "Epoch [11], Training Loss: 0.0965, Training Accuracy: 96.38%, Test Loss: 0.1025, Test Accuracy: 96.39%\n",
            "Epoch [12], Training Loss: 0.0813, Training Accuracy: 97.05%, Test Loss: 0.2765, Test Accuracy: 90.83%\n",
            "Epoch [13], Training Loss: 0.0610, Training Accuracy: 97.98%, Test Loss: 2.0060, Test Accuracy: 75.44%\n",
            "Epoch [14], Training Loss: 0.0613, Training Accuracy: 98.31%, Test Loss: 0.1221, Test Accuracy: 96.94%\n",
            "Epoch [15], Training Loss: 0.0626, Training Accuracy: 97.79%, Test Loss: 1.1276, Test Accuracy: 77.00%\n",
            "Epoch [16], Training Loss: 0.0689, Training Accuracy: 97.57%, Test Loss: 0.3978, Test Accuracy: 86.94%\n",
            "Epoch [17], Training Loss: 0.0484, Training Accuracy: 98.33%, Test Loss: 0.1417, Test Accuracy: 95.28%\n",
            "Epoch [18], Training Loss: 0.0421, Training Accuracy: 98.55%, Test Loss: 0.8866, Test Accuracy: 75.94%\n",
            "Epoch [19], Training Loss: 0.0429, Training Accuracy: 98.48%, Test Loss: 0.0548, Test Accuracy: 98.39%\n",
            "Epoch [20], Training Loss: 0.0389, Training Accuracy: 98.79%, Test Loss: 0.1255, Test Accuracy: 96.11%\n",
            "Epoch [21], Training Loss: 0.0366, Training Accuracy: 98.52%, Test Loss: 0.1527, Test Accuracy: 95.78%\n",
            "Epoch [22], Training Loss: 0.0431, Training Accuracy: 98.62%, Test Loss: 0.2818, Test Accuracy: 91.50%\n",
            "Epoch [23], Training Loss: 0.0209, Training Accuracy: 99.48%, Test Loss: 0.5624, Test Accuracy: 88.22%\n",
            "Epoch [24], Training Loss: 0.0299, Training Accuracy: 99.07%, Test Loss: 1.2893, Test Accuracy: 73.72%\n",
            "Epoch [25], Training Loss: 0.0269, Training Accuracy: 99.14%, Test Loss: 0.0660, Test Accuracy: 97.89%\n",
            "Epoch [26], Training Loss: 0.0125, Training Accuracy: 99.69%, Test Loss: 0.0644, Test Accuracy: 98.00%\n",
            "Epoch [27], Training Loss: 0.0262, Training Accuracy: 99.26%, Test Loss: 2.1119, Test Accuracy: 72.39%\n",
            "Epoch [28], Training Loss: 0.0214, Training Accuracy: 99.52%, Test Loss: 0.1181, Test Accuracy: 96.78%\n",
            "Epoch [29], Training Loss: 0.0229, Training Accuracy: 99.26%, Test Loss: 8.2078, Test Accuracy: 36.89%\n",
            "Epoch [30], Training Loss: 0.0496, Training Accuracy: 98.29%, Test Loss: 1.6355, Test Accuracy: 75.11%\n",
            "Epoch [31], Training Loss: 0.0189, Training Accuracy: 99.33%, Test Loss: 0.0605, Test Accuracy: 98.06%\n",
            "Epoch [32], Training Loss: 0.0096, Training Accuracy: 99.69%, Test Loss: 0.0662, Test Accuracy: 97.83%\n",
            "Epoch [33], Training Loss: 0.0214, Training Accuracy: 99.33%, Test Loss: 8.2062, Test Accuracy: 58.22%\n",
            "Epoch [34], Training Loss: 0.0148, Training Accuracy: 99.64%, Test Loss: 0.0528, Test Accuracy: 98.11%\n",
            "Epoch [35], Training Loss: 0.0042, Training Accuracy: 99.95%, Test Loss: 0.1020, Test Accuracy: 96.89%\n",
            "Epoch [36], Training Loss: 0.0188, Training Accuracy: 99.36%, Test Loss: 0.2340, Test Accuracy: 93.67%\n",
            "Epoch [37], Training Loss: 0.0119, Training Accuracy: 99.74%, Test Loss: 0.0675, Test Accuracy: 97.72%\n",
            "Epoch [38], Training Loss: 0.0067, Training Accuracy: 99.83%, Test Loss: 0.0669, Test Accuracy: 97.89%\n",
            "Epoch [39], Training Loss: 0.0032, Training Accuracy: 100.00%, Test Loss: 0.0551, Test Accuracy: 98.44%\n",
            "Epoch [40], Training Loss: 0.0028, Training Accuracy: 99.95%, Test Loss: 0.0560, Test Accuracy: 98.28%\n",
            "Epoch [41], Training Loss: 0.0152, Training Accuracy: 99.50%, Test Loss: 0.0710, Test Accuracy: 98.00%\n",
            "Epoch [42], Training Loss: 0.0025, Training Accuracy: 100.00%, Test Loss: 0.0584, Test Accuracy: 98.22%\n",
            "Epoch [43], Training Loss: 0.0047, Training Accuracy: 99.90%, Test Loss: 0.0728, Test Accuracy: 97.89%\n",
            "Epoch [44], Training Loss: 0.0049, Training Accuracy: 99.88%, Test Loss: 0.0567, Test Accuracy: 98.50%\n",
            "Epoch [45], Training Loss: 0.0031, Training Accuracy: 99.98%, Test Loss: 0.0858, Test Accuracy: 97.89%\n",
            "Epoch [46], Training Loss: 0.0040, Training Accuracy: 99.90%, Test Loss: 0.0654, Test Accuracy: 98.11%\n",
            "Epoch [47], Training Loss: 0.0071, Training Accuracy: 99.79%, Test Loss: 0.0780, Test Accuracy: 97.83%\n",
            "Epoch [48], Training Loss: 0.0032, Training Accuracy: 99.95%, Test Loss: 0.0601, Test Accuracy: 98.11%\n",
            "Epoch [49], Training Loss: 0.0016, Training Accuracy: 100.00%, Test Loss: 0.0512, Test Accuracy: 98.33%\n",
            "Epoch [50], Training Loss: 0.0030, Training Accuracy: 99.95%, Test Loss: 1.9736, Test Accuracy: 69.89%\n",
            "Epoch [51], Training Loss: 0.0194, Training Accuracy: 99.50%, Test Loss: 29.5245, Test Accuracy: 45.17%\n",
            "Epoch [52], Training Loss: 0.0295, Training Accuracy: 99.10%, Test Loss: 0.0998, Test Accuracy: 97.33%\n",
            "Epoch [53], Training Loss: 0.0058, Training Accuracy: 99.86%, Test Loss: 0.0523, Test Accuracy: 98.28%\n",
            "Epoch [54], Training Loss: 0.0161, Training Accuracy: 99.40%, Test Loss: 0.1000, Test Accuracy: 97.17%\n",
            "Epoch [55], Training Loss: 0.0040, Training Accuracy: 99.93%, Test Loss: 0.0699, Test Accuracy: 97.89%\n",
            "Epoch [56], Training Loss: 0.0051, Training Accuracy: 99.83%, Test Loss: 0.0696, Test Accuracy: 98.28%\n",
            "Epoch [57], Training Loss: 0.0018, Training Accuracy: 100.00%, Test Loss: 0.0532, Test Accuracy: 98.50%\n",
            "Epoch [58], Training Loss: 0.0024, Training Accuracy: 99.95%, Test Loss: 0.0588, Test Accuracy: 97.94%\n",
            "Epoch [59], Training Loss: 0.0037, Training Accuracy: 99.95%, Test Loss: 1.2655, Test Accuracy: 77.67%\n",
            "Epoch [60], Training Loss: 0.0101, Training Accuracy: 99.74%, Test Loss: 0.0720, Test Accuracy: 97.83%\n",
            "Epoch [61], Training Loss: 0.0015, Training Accuracy: 100.00%, Test Loss: 0.0623, Test Accuracy: 97.94%\n",
            "Epoch [62], Training Loss: 0.0017, Training Accuracy: 99.98%, Test Loss: 0.0550, Test Accuracy: 98.50%\n",
            "Epoch [63], Training Loss: 0.0018, Training Accuracy: 99.95%, Test Loss: 0.0439, Test Accuracy: 98.61%\n",
            "Epoch [64], Training Loss: 0.0019, Training Accuracy: 99.93%, Test Loss: 0.0527, Test Accuracy: 98.17%\n",
            "Epoch [65], Training Loss: 0.0031, Training Accuracy: 99.98%, Test Loss: 1.8516, Test Accuracy: 74.33%\n",
            "Epoch [66], Training Loss: 0.0180, Training Accuracy: 99.45%, Test Loss: 2.3313, Test Accuracy: 63.11%\n",
            "Epoch [67], Training Loss: 0.0250, Training Accuracy: 99.50%, Test Loss: 0.2275, Test Accuracy: 92.83%\n",
            "Epoch [68], Training Loss: 0.0064, Training Accuracy: 99.88%, Test Loss: 0.0639, Test Accuracy: 98.28%\n",
            "Epoch [69], Training Loss: 0.0039, Training Accuracy: 99.98%, Test Loss: 1.4689, Test Accuracy: 68.61%\n",
            "Epoch [70], Training Loss: 0.0141, Training Accuracy: 99.52%, Test Loss: 0.1208, Test Accuracy: 96.89%\n",
            "Epoch [71], Training Loss: 0.0029, Training Accuracy: 99.93%, Test Loss: 0.0631, Test Accuracy: 98.22%\n",
            "Epoch [72], Training Loss: 0.0025, Training Accuracy: 99.95%, Test Loss: 0.0782, Test Accuracy: 98.00%\n",
            "Epoch [73], Training Loss: 0.0083, Training Accuracy: 99.79%, Test Loss: 6.2715, Test Accuracy: 51.06%\n",
            "Epoch [74], Training Loss: 0.0345, Training Accuracy: 98.93%, Test Loss: 0.0733, Test Accuracy: 98.00%\n",
            "Epoch [75], Training Loss: 0.0027, Training Accuracy: 99.98%, Test Loss: 0.2845, Test Accuracy: 92.67%\n",
            "Epoch [76], Training Loss: 0.0055, Training Accuracy: 99.81%, Test Loss: 0.0693, Test Accuracy: 98.06%\n",
            "Epoch [77], Training Loss: 0.0109, Training Accuracy: 99.90%, Test Loss: 4.2843, Test Accuracy: 68.11%\n",
            "Epoch [78], Training Loss: 0.0191, Training Accuracy: 99.55%, Test Loss: 0.0670, Test Accuracy: 97.89%\n",
            "Epoch [79], Training Loss: 0.0035, Training Accuracy: 99.95%, Test Loss: 0.0763, Test Accuracy: 97.56%\n",
            "Epoch [80], Training Loss: 0.0010, Training Accuracy: 100.00%, Test Loss: 0.0572, Test Accuracy: 98.06%\n",
            "Epoch [81], Training Loss: 0.0134, Training Accuracy: 99.98%, Test Loss: 4.0432, Test Accuracy: 45.72%\n",
            "Epoch [82], Training Loss: 0.0236, Training Accuracy: 99.50%, Test Loss: 0.0774, Test Accuracy: 97.61%\n",
            "Epoch [83], Training Loss: 0.0044, Training Accuracy: 99.93%, Test Loss: 0.3122, Test Accuracy: 90.94%\n",
            "Epoch [84], Training Loss: 0.0017, Training Accuracy: 100.00%, Test Loss: 0.0625, Test Accuracy: 98.06%\n",
            "Epoch [85], Training Loss: 0.0029, Training Accuracy: 99.93%, Test Loss: 0.0744, Test Accuracy: 97.89%\n",
            "Epoch [86], Training Loss: 0.0140, Training Accuracy: 99.67%, Test Loss: 0.0841, Test Accuracy: 97.56%\n",
            "Epoch [87], Training Loss: 0.0026, Training Accuracy: 99.98%, Test Loss: 0.0924, Test Accuracy: 97.22%\n",
            "Epoch [88], Training Loss: 0.0037, Training Accuracy: 99.93%, Test Loss: 0.0769, Test Accuracy: 98.06%\n",
            "Epoch [89], Training Loss: 0.0014, Training Accuracy: 100.00%, Test Loss: 0.0616, Test Accuracy: 97.94%\n",
            "Epoch [90], Training Loss: 0.0010, Training Accuracy: 100.00%, Test Loss: 0.0670, Test Accuracy: 98.33%\n",
            "Epoch [91], Training Loss: 0.0009, Training Accuracy: 100.00%, Test Loss: 0.0683, Test Accuracy: 98.11%\n",
            "Epoch [92], Training Loss: 0.0018, Training Accuracy: 99.98%, Test Loss: 0.0636, Test Accuracy: 98.17%\n",
            "Epoch [93], Training Loss: 0.0006, Training Accuracy: 100.00%, Test Loss: 0.0605, Test Accuracy: 98.17%\n",
            "Epoch [94], Training Loss: 0.0009, Training Accuracy: 100.00%, Test Loss: 0.0715, Test Accuracy: 98.06%\n",
            "Epoch [95], Training Loss: 0.0006, Training Accuracy: 100.00%, Test Loss: 0.0572, Test Accuracy: 98.39%\n",
            "Epoch [96], Training Loss: 0.0017, Training Accuracy: 99.98%, Test Loss: 25.1883, Test Accuracy: 51.94%\n",
            "Epoch [97], Training Loss: 0.0093, Training Accuracy: 99.62%, Test Loss: 0.0674, Test Accuracy: 98.28%\n",
            "Epoch [98], Training Loss: 0.0014, Training Accuracy: 100.00%, Test Loss: 0.0636, Test Accuracy: 98.28%\n",
            "Epoch [99], Training Loss: 0.0028, Training Accuracy: 99.93%, Test Loss: 0.0590, Test Accuracy: 98.17%\n",
            "Epoch [100], Training Loss: 0.0061, Training Accuracy: 99.90%, Test Loss: 0.3567, Test Accuracy: 88.89%\n"
          ]
        }
      ]
    },
    {
      "cell_type": "code",
      "source": [
        "df_train = pd.DataFrame(train_data_metrics, columns = [\"epoch\", \"train_loss\", \"train_accuracy\"])\n",
        "df_test = pd.DataFrame(test_data_metrics, columns = [\"epoch\", \"test_loss\", \"test_accuracy\"])"
      ],
      "metadata": {
        "id": "4x2D8_55ex_N"
      },
      "execution_count": null,
      "outputs": []
    },
    {
      "cell_type": "code",
      "source": [
        "df_train.to_csv(\"df_train.csv\")\n",
        "df_test.to_csv(\"df_test.csv\")"
      ],
      "metadata": {
        "id": "SizAx6Np2_4V"
      },
      "execution_count": null,
      "outputs": []
    },
    {
      "cell_type": "code",
      "source": [
        "plt.plot(df_train[\"epoch\"], df_train[\"train_loss\"], label = \"train_loss\")\n",
        "plt.plot(df_test[\"epoch\"], df_test[\"test_loss\"], label = \"test_loss\")\n",
        "plt.legend()"
      ],
      "metadata": {
        "colab": {
          "base_uri": "https://localhost:8080/",
          "height": 448
        },
        "id": "jYWs3cQ_3PKk",
        "outputId": "4fa6ac31-e3cc-49e5-e8c2-d81e4236c631"
      },
      "execution_count": null,
      "outputs": [
        {
          "output_type": "execute_result",
          "data": {
            "text/plain": [
              "<matplotlib.legend.Legend at 0x7ebbc0db4fd0>"
            ]
          },
          "metadata": {},
          "execution_count": 26
        },
        {
          "output_type": "display_data",
          "data": {
            "text/plain": [
              "<Figure size 640x480 with 1 Axes>"
            ],
            "image/png": "[encoded data removed]"
          },
          "metadata": {}
        }
      ]
    },
    {
      "cell_type": "code",
      "source": [
        "plt.plot(df_train[\"epoch\"], df_train[\"train_accuracy\"], label = \"train_accuracy\")\n",
        "plt.plot(df_test[\"epoch\"], df_test[\"test_accuracy\"], label = \"test_accuracy\")\n",
        "plt.legend()"
      ],
      "metadata": {
        "colab": {
          "base_uri": "https://localhost:8080/",
          "height": 448
        },
        "id": "pa0PHjYv3yir",
        "outputId": "fdc41522-cdd7-470f-cde1-9cfe4ef518d7"
      },
      "execution_count": null,
      "outputs": [
        {
          "output_type": "execute_result",
          "data": {
            "text/plain": [
              "<matplotlib.legend.Legend at 0x7ebbc0d84730>"
            ]
          },
          "metadata": {},
          "execution_count": 27
        },
        {
          "output_type": "display_data",
          "data": {
            "text/plain": [
              "<Figure size 640x480 with 1 Axes>"
            ],
            "image/png": "[encoded data removed]"
          },
          "metadata": {}
        }
      ]
    }
  ]
}